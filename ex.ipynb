{
 "cells": [
  {
   "cell_type": "code",
   "execution_count": 1,
   "metadata": {},
   "outputs": [],
   "source": [
    "import os\n",
    "import cv2\n",
    "import numpy as np\n",
    "import tensorflow as tf\n",
    "import tensorflow_hub as hub\n"
   ]
  },
  {
   "cell_type": "code",
   "execution_count": 2,
   "metadata": {},
   "outputs": [
    {
     "name": "stdout",
     "output_type": "stream",
     "text": [
      "Model not found, downloading and saving the model...\n",
      "INFO:tensorflow:Assets written to: esrgan_model/assets\n"
     ]
    },
    {
     "name": "stderr",
     "output_type": "stream",
     "text": [
      "INFO:tensorflow:Assets written to: esrgan_model/assets\n"
     ]
    }
   ],
   "source": [
    "def load_or_save_model():\n",
    "    model_path = \"esrgan_model\"  \n",
    "\n",
    "   \n",
    "    if os.path.exists(model_path):\n",
    "        print(\"Model already exists, loading from\", model_path)\n",
    "        model = tf.saved_model.load(model_path)\n",
    "    else:\n",
    "        print(\"Model not found, downloading and saving the model...\")\n",
    "        model = hub.load(\"https://tfhub.dev/captain-pool/esrgan-tf2/1\")  # Load ESRGAN model\n",
    "        tf.saved_model.save(model, model_path)  \n",
    "    return model\n",
    "\n",
    "model = load_or_save_model()"
   ]
  },
  {
   "cell_type": "code",
   "execution_count": 3,
   "metadata": {},
   "outputs": [],
   "source": [
    "# Function to preprocess video frame for model input\n",
    "def preprocess_frame(frame):\n",
    "    frame = cv2.resize(frame, (640, 480))  # Resize to SD resolution\n",
    "    frame = tf.expand_dims(frame, 0)  \n",
    "    frame = tf.cast(frame, tf.float32)\n",
    "    return frame"
   ]
  },
  {
   "cell_type": "code",
   "execution_count": 4,
   "metadata": {},
   "outputs": [],
   "source": [
    "# Function to postprocess video frame after model output\n",
    "def postprocess_frame(frame):\n",
    "    frame = tf.squeeze(frame)\n",
    "    frame = tf.clip_by_value(frame, 0, 255)  # Clip pixel values\n",
    "    frame = tf.cast(frame, tf.uint8)  # Cast to uint8\n",
    "    return frame.numpy()"
   ]
  },
  {
   "cell_type": "code",
   "execution_count": 5,
   "metadata": {},
   "outputs": [],
   "source": [
    "# Function to convert SD video to HD using diffusion model\n",
    "def convert_video(input_video_path, output_video_path, model):\n",
    "    input_video = cv2.VideoCapture(input_video_path)\n",
    "    if not input_video.isOpened():\n",
    "        print(\"Error: Unable to open input video file.\")\n",
    "        return\n",
    "\n",
    "    fps = input_video.get(cv2.CAP_PROP_FPS)\n",
    "    width = int(input_video.get(cv2.CAP_PROP_FRAME_WIDTH)) * 2\n",
    "    height = int(input_video.get(cv2.CAP_PROP_FRAME_HEIGHT))\n",
    "    fourcc = cv2.VideoWriter_fourcc(*'XVID')\n",
    "\n",
    "    output_video = cv2.VideoWriter(output_video_path, fourcc, fps, (1280, 720))\n",
    "    if not output_video.isOpened():\n",
    "        print(\"Error: Unable to open output video file.\")\n",
    "        input_video.release()\n",
    "        return\n",
    "\n",
    "    frame_count = 0\n",
    "    while True:\n",
    "        ret, frame = input_video.read()\n",
    "        if not ret:\n",
    "            break\n",
    "\n",
    "        frame_count += 1\n",
    "\n",
    "        \n",
    "        preprocessed_frame = preprocess_frame(frame)\n",
    "\n",
    "        \n",
    "        sr_frame = model(preprocessed_frame)\n",
    "\n",
    "        \n",
    "        sr_frame = postprocess_frame(sr_frame)\n",
    "\n",
    "       \n",
    "        output_video.write(sr_frame)\n",
    "\n",
    "    # Release video objects\n",
    "    input_video.release()\n",
    "    output_video.release()\n",
    "    cv2.destroyAllWindows()\n",
    "\n",
    "    print(\"Video conversion completed. Total frames processed:\", frame_count)\n"
   ]
  },
  {
   "cell_type": "code",
   "execution_count": 6,
   "metadata": {},
   "outputs": [],
   "source": [
    "# #main\n",
    "\n",
    "# def main():\n",
    "#     input_video_path = \"file.mp4\"\n",
    "#     output_video_path = \"output_video_jsut.mp4\"\n",
    "\n",
    "#     # Convert SD video to HD\n",
    "#     convert_video(input_video_path, output_video_path, model)\n",
    "\n",
    "# if __name__ == \"__main__\":\n",
    "#     main()"
   ]
  },
  {
   "cell_type": "code",
   "execution_count": null,
   "metadata": {},
   "outputs": [],
   "source": []
  }
 ],
 "metadata": {
  "kernelspec": {
   "display_name": "venv",
   "language": "python",
   "name": "python3"
  },
  "language_info": {
   "codemirror_mode": {
    "name": "ipython",
    "version": 3
   },
   "file_extension": ".py",
   "mimetype": "text/x-python",
   "name": "python",
   "nbconvert_exporter": "python",
   "pygments_lexer": "ipython3",
   "version": "3.11.8"
  }
 },
 "nbformat": 4,
 "nbformat_minor": 2
}
